{
  "nbformat": 4,
  "nbformat_minor": 0,
  "metadata": {
    "colab": {
      "name": "Example_colab.ipynb",
      "provenance": []
    },
    "kernelspec": {
      "name": "python3",
      "display_name": "Python 3"
    },
    "language_info": {
      "name": "python"
    }
  },
  "cells": [
    {
      "cell_type": "markdown",
      "source": [
        "## Example for Advanced Automation \n",
        "\n",
        "Laboratory about Google Colab\n",
        "\n",
        "Change"
      ],
      "metadata": {
        "id": "OWDHuXoHYhiP"
      }
    }
  ]
}